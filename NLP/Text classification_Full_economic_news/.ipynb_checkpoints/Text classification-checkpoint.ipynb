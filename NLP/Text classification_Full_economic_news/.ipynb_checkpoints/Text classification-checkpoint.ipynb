{
 "cells": [
  {
   "cell_type": "code",
   "execution_count": null,
   "id": "conservative-adolescent",
   "metadata": {},
   "outputs": [],
   "source": []
  },
  {
   "cell_type": "code",
   "execution_count": 19,
   "id": "olympic-ladder",
   "metadata": {},
   "outputs": [],
   "source": [
    "import numpy as np\n",
    "import pandas as pd\n",
    "import matplotlib.pyplot as plt\n",
    "import matplotlib as mpl \n",
    "import matplotlib.cm as cm\n",
    "import seaborn as sns\n",
    "import warnings\n",
    "warnings.filterwarnings('ignore')\n",
    "\n",
    "from sklearn.feature_extraction.text import CountVectorizer\n",
    "from sklearn.feature_extraction import _stop_words\n",
    "from sklearn.model_selection import train_test_split\n",
    "\n",
    "#Pre-processing text\n",
    "import string \n",
    "import re\n",
    "\n",
    "#Classification Models\n",
    "from sklearn.naive_bayes import MultinomialNB\n",
    "from sklearn.linear_model import LogisticRegression\n",
    "from sklearn.svm import SVC\n",
    "\n",
    "#Evaluation Matrics\n",
    "from sklearn.metrics import accuracy_score\n",
    "\n",
    "#Splitting the data\n",
    "from sklearn import metrics\n",
    "from sklearn.metrics import confusion_matrix\n",
    "\n",
    "from time import time"
   ]
  },
  {
   "cell_type": "code",
   "execution_count": 15,
   "id": "intensive-valve",
   "metadata": {},
   "outputs": [
    {
     "data": {
      "text/html": [
       "<div>\n",
       "<style scoped>\n",
       "    .dataframe tbody tr th:only-of-type {\n",
       "        vertical-align: middle;\n",
       "    }\n",
       "\n",
       "    .dataframe tbody tr th {\n",
       "        vertical-align: top;\n",
       "    }\n",
       "\n",
       "    .dataframe thead th {\n",
       "        text-align: right;\n",
       "    }\n",
       "</style>\n",
       "<table border=\"1\" class=\"dataframe\">\n",
       "  <thead>\n",
       "    <tr style=\"text-align: right;\">\n",
       "      <th></th>\n",
       "      <th>_unit_id</th>\n",
       "      <th>_golden</th>\n",
       "      <th>_unit_state</th>\n",
       "      <th>_trusted_judgments</th>\n",
       "      <th>_last_judgment_at</th>\n",
       "      <th>positivity</th>\n",
       "      <th>positivity:confidence</th>\n",
       "      <th>relevance</th>\n",
       "      <th>relevance:confidence</th>\n",
       "      <th>articleid</th>\n",
       "      <th>date</th>\n",
       "      <th>headline</th>\n",
       "      <th>positivity_gold</th>\n",
       "      <th>relevance_gold</th>\n",
       "      <th>text</th>\n",
       "    </tr>\n",
       "  </thead>\n",
       "  <tbody>\n",
       "    <tr>\n",
       "      <th>0</th>\n",
       "      <td>842613455</td>\n",
       "      <td>False</td>\n",
       "      <td>finalized</td>\n",
       "      <td>3</td>\n",
       "      <td>12/5/15 17:48</td>\n",
       "      <td>3.0</td>\n",
       "      <td>0.6400</td>\n",
       "      <td>yes</td>\n",
       "      <td>0.6400</td>\n",
       "      <td>wsj_398217788</td>\n",
       "      <td>8/14/91</td>\n",
       "      <td>Yields on CDs Fell in the Latest Week</td>\n",
       "      <td>NaN</td>\n",
       "      <td>NaN</td>\n",
       "      <td>NEW YORK -- Yields on most certificates of dep...</td>\n",
       "    </tr>\n",
       "    <tr>\n",
       "      <th>1</th>\n",
       "      <td>842613456</td>\n",
       "      <td>False</td>\n",
       "      <td>finalized</td>\n",
       "      <td>3</td>\n",
       "      <td>12/5/15 16:54</td>\n",
       "      <td>NaN</td>\n",
       "      <td>NaN</td>\n",
       "      <td>no</td>\n",
       "      <td>1.0000</td>\n",
       "      <td>wsj_399019502</td>\n",
       "      <td>8/21/07</td>\n",
       "      <td>The Morning Brief: White House Seeks to Limit ...</td>\n",
       "      <td>NaN</td>\n",
       "      <td>NaN</td>\n",
       "      <td>The Wall Street Journal Online&lt;/br&gt;&lt;/br&gt;The Mo...</td>\n",
       "    </tr>\n",
       "    <tr>\n",
       "      <th>2</th>\n",
       "      <td>842613457</td>\n",
       "      <td>False</td>\n",
       "      <td>finalized</td>\n",
       "      <td>3</td>\n",
       "      <td>12/5/15 1:59</td>\n",
       "      <td>NaN</td>\n",
       "      <td>NaN</td>\n",
       "      <td>no</td>\n",
       "      <td>1.0000</td>\n",
       "      <td>wsj_398284048</td>\n",
       "      <td>11/14/91</td>\n",
       "      <td>Banking Bill Negotiators Set Compromise --- Pl...</td>\n",
       "      <td>NaN</td>\n",
       "      <td>NaN</td>\n",
       "      <td>WASHINGTON -- In an effort to achieve banking ...</td>\n",
       "    </tr>\n",
       "    <tr>\n",
       "      <th>3</th>\n",
       "      <td>842613458</td>\n",
       "      <td>False</td>\n",
       "      <td>finalized</td>\n",
       "      <td>3</td>\n",
       "      <td>12/5/15 2:19</td>\n",
       "      <td>NaN</td>\n",
       "      <td>0.0000</td>\n",
       "      <td>no</td>\n",
       "      <td>0.6750</td>\n",
       "      <td>wsj_397959018</td>\n",
       "      <td>6/16/86</td>\n",
       "      <td>Manager's Journal: Sniffing Out Drug Abusers I...</td>\n",
       "      <td>NaN</td>\n",
       "      <td>NaN</td>\n",
       "      <td>The statistics on the enormous costs of employ...</td>\n",
       "    </tr>\n",
       "    <tr>\n",
       "      <th>4</th>\n",
       "      <td>842613459</td>\n",
       "      <td>False</td>\n",
       "      <td>finalized</td>\n",
       "      <td>3</td>\n",
       "      <td>12/5/15 17:48</td>\n",
       "      <td>3.0</td>\n",
       "      <td>0.3257</td>\n",
       "      <td>yes</td>\n",
       "      <td>0.6400</td>\n",
       "      <td>wsj_398838054</td>\n",
       "      <td>10/4/02</td>\n",
       "      <td>Currency Trading: Dollar Remains in Tight Rang...</td>\n",
       "      <td>NaN</td>\n",
       "      <td>NaN</td>\n",
       "      <td>NEW YORK -- Indecision marked the dollar's ton...</td>\n",
       "    </tr>\n",
       "    <tr>\n",
       "      <th>...</th>\n",
       "      <td>...</td>\n",
       "      <td>...</td>\n",
       "      <td>...</td>\n",
       "      <td>...</td>\n",
       "      <td>...</td>\n",
       "      <td>...</td>\n",
       "      <td>...</td>\n",
       "      <td>...</td>\n",
       "      <td>...</td>\n",
       "      <td>...</td>\n",
       "      <td>...</td>\n",
       "      <td>...</td>\n",
       "      <td>...</td>\n",
       "      <td>...</td>\n",
       "      <td>...</td>\n",
       "    </tr>\n",
       "    <tr>\n",
       "      <th>7995</th>\n",
       "      <td>830985632</td>\n",
       "      <td>False</td>\n",
       "      <td>finalized</td>\n",
       "      <td>3</td>\n",
       "      <td>11/17/15 18:16</td>\n",
       "      <td>7.0</td>\n",
       "      <td>0.3511</td>\n",
       "      <td>yes</td>\n",
       "      <td>0.6641</td>\n",
       "      <td>wapo_152454634</td>\n",
       "      <td>2/11/52</td>\n",
       "      <td>Sawyer Sees Strong Economy For 2 Years, Truce ...</td>\n",
       "      <td>NaN</td>\n",
       "      <td>NaN</td>\n",
       "      <td>Secretary of Commerce Charles W. Sawyer said y...</td>\n",
       "    </tr>\n",
       "    <tr>\n",
       "      <th>7996</th>\n",
       "      <td>830985633</td>\n",
       "      <td>False</td>\n",
       "      <td>finalized</td>\n",
       "      <td>3</td>\n",
       "      <td>11/18/15 8:10</td>\n",
       "      <td>NaN</td>\n",
       "      <td>NaN</td>\n",
       "      <td>no</td>\n",
       "      <td>1.0000</td>\n",
       "      <td>wapo_410349039</td>\n",
       "      <td>12/13/09</td>\n",
       "      <td>Oil's losses are airlines' gains</td>\n",
       "      <td>NaN</td>\n",
       "      <td>NaN</td>\n",
       "      <td>U.S. stocks inched up last week, overcoming co...</td>\n",
       "    </tr>\n",
       "    <tr>\n",
       "      <th>7997</th>\n",
       "      <td>830985634</td>\n",
       "      <td>False</td>\n",
       "      <td>finalized</td>\n",
       "      <td>3</td>\n",
       "      <td>11/18/15 12:12</td>\n",
       "      <td>NaN</td>\n",
       "      <td>NaN</td>\n",
       "      <td>no</td>\n",
       "      <td>1.0000</td>\n",
       "      <td>wapo_410346237</td>\n",
       "      <td>12/18/09</td>\n",
       "      <td>Full Senate to vote on Bernanke; PANEL ADVANCE...</td>\n",
       "      <td>NaN</td>\n",
       "      <td>NaN</td>\n",
       "      <td>Ben S. Bernanke cleared a key hurdle Thursday ...</td>\n",
       "    </tr>\n",
       "    <tr>\n",
       "      <th>7998</th>\n",
       "      <td>830985635</td>\n",
       "      <td>False</td>\n",
       "      <td>finalized</td>\n",
       "      <td>3</td>\n",
       "      <td>11/18/15 7:17</td>\n",
       "      <td>NaN</td>\n",
       "      <td>0.0000</td>\n",
       "      <td>no</td>\n",
       "      <td>0.6855</td>\n",
       "      <td>wapo_307808606</td>\n",
       "      <td>1/10/95</td>\n",
       "      <td>Reinventing Opportunities</td>\n",
       "      <td>NaN</td>\n",
       "      <td>NaN</td>\n",
       "      <td>The White House's push to contract out many fe...</td>\n",
       "    </tr>\n",
       "    <tr>\n",
       "      <th>7999</th>\n",
       "      <td>830985636</td>\n",
       "      <td>False</td>\n",
       "      <td>finalized</td>\n",
       "      <td>3</td>\n",
       "      <td>11/18/15 11:05</td>\n",
       "      <td>NaN</td>\n",
       "      <td>NaN</td>\n",
       "      <td>no</td>\n",
       "      <td>1.0000</td>\n",
       "      <td>wapo_143151328</td>\n",
       "      <td>4/18/67</td>\n",
       "      <td>Stocks Rise On News of Auto Output: Dow Climbs...</td>\n",
       "      <td>NaN</td>\n",
       "      <td>NaN</td>\n",
       "      <td>NEW YORK. April 17-Automobile stocks put on th...</td>\n",
       "    </tr>\n",
       "  </tbody>\n",
       "</table>\n",
       "<p>8000 rows × 15 columns</p>\n",
       "</div>"
      ],
      "text/plain": [
       "       _unit_id  _golden _unit_state  _trusted_judgments _last_judgment_at  \\\n",
       "0     842613455    False   finalized                   3     12/5/15 17:48   \n",
       "1     842613456    False   finalized                   3     12/5/15 16:54   \n",
       "2     842613457    False   finalized                   3      12/5/15 1:59   \n",
       "3     842613458    False   finalized                   3      12/5/15 2:19   \n",
       "4     842613459    False   finalized                   3     12/5/15 17:48   \n",
       "...         ...      ...         ...                 ...               ...   \n",
       "7995  830985632    False   finalized                   3    11/17/15 18:16   \n",
       "7996  830985633    False   finalized                   3     11/18/15 8:10   \n",
       "7997  830985634    False   finalized                   3    11/18/15 12:12   \n",
       "7998  830985635    False   finalized                   3     11/18/15 7:17   \n",
       "7999  830985636    False   finalized                   3    11/18/15 11:05   \n",
       "\n",
       "      positivity  positivity:confidence relevance  relevance:confidence  \\\n",
       "0            3.0                 0.6400       yes                0.6400   \n",
       "1            NaN                    NaN        no                1.0000   \n",
       "2            NaN                    NaN        no                1.0000   \n",
       "3            NaN                 0.0000        no                0.6750   \n",
       "4            3.0                 0.3257       yes                0.6400   \n",
       "...          ...                    ...       ...                   ...   \n",
       "7995         7.0                 0.3511       yes                0.6641   \n",
       "7996         NaN                    NaN        no                1.0000   \n",
       "7997         NaN                    NaN        no                1.0000   \n",
       "7998         NaN                 0.0000        no                0.6855   \n",
       "7999         NaN                    NaN        no                1.0000   \n",
       "\n",
       "           articleid      date  \\\n",
       "0      wsj_398217788   8/14/91   \n",
       "1      wsj_399019502   8/21/07   \n",
       "2      wsj_398284048  11/14/91   \n",
       "3      wsj_397959018   6/16/86   \n",
       "4      wsj_398838054   10/4/02   \n",
       "...              ...       ...   \n",
       "7995  wapo_152454634   2/11/52   \n",
       "7996  wapo_410349039  12/13/09   \n",
       "7997  wapo_410346237  12/18/09   \n",
       "7998  wapo_307808606   1/10/95   \n",
       "7999  wapo_143151328   4/18/67   \n",
       "\n",
       "                                               headline  positivity_gold  \\\n",
       "0                 Yields on CDs Fell in the Latest Week              NaN   \n",
       "1     The Morning Brief: White House Seeks to Limit ...              NaN   \n",
       "2     Banking Bill Negotiators Set Compromise --- Pl...              NaN   \n",
       "3     Manager's Journal: Sniffing Out Drug Abusers I...              NaN   \n",
       "4     Currency Trading: Dollar Remains in Tight Rang...              NaN   \n",
       "...                                                 ...              ...   \n",
       "7995  Sawyer Sees Strong Economy For 2 Years, Truce ...              NaN   \n",
       "7996                   Oil's losses are airlines' gains              NaN   \n",
       "7997  Full Senate to vote on Bernanke; PANEL ADVANCE...              NaN   \n",
       "7998                          Reinventing Opportunities              NaN   \n",
       "7999  Stocks Rise On News of Auto Output: Dow Climbs...              NaN   \n",
       "\n",
       "      relevance_gold                                               text  \n",
       "0                NaN  NEW YORK -- Yields on most certificates of dep...  \n",
       "1                NaN  The Wall Street Journal Online</br></br>The Mo...  \n",
       "2                NaN  WASHINGTON -- In an effort to achieve banking ...  \n",
       "3                NaN  The statistics on the enormous costs of employ...  \n",
       "4                NaN  NEW YORK -- Indecision marked the dollar's ton...  \n",
       "...              ...                                                ...  \n",
       "7995             NaN  Secretary of Commerce Charles W. Sawyer said y...  \n",
       "7996             NaN  U.S. stocks inched up last week, overcoming co...  \n",
       "7997             NaN  Ben S. Bernanke cleared a key hurdle Thursday ...  \n",
       "7998             NaN  The White House's push to contract out many fe...  \n",
       "7999             NaN  NEW YORK. April 17-Automobile stocks put on th...  \n",
       "\n",
       "[8000 rows x 15 columns]"
      ]
     },
     "execution_count": 15,
     "metadata": {},
     "output_type": "execute_result"
    }
   ],
   "source": [
    "df = pd.read_csv('Full-Economic-News-DFE-839861.csv', encoding = \"ISO-8859-1\")\n",
    "df"
   ]
  },
  {
   "cell_type": "code",
   "execution_count": 13,
   "id": "parliamentary-portfolio",
   "metadata": {},
   "outputs": [
    {
     "data": {
      "image/png": "[encoded data removed]",
      "text/plain": [
       "<Figure size 432x288 with 1 Axes>"
      ]
     },
     "metadata": {
      "needs_background": "light"
     },
     "output_type": "display_data"
    }
   ],
   "source": [
    "relevance_data = df.relevance.value_counts()\n",
    "plt.title('Distribution of Relevance about Data')\n",
    "sns.barplot(x=relevance_data.index, y = relevance_data.values )\n",
    "plt.show()"
   ]
  },
  {
   "cell_type": "markdown",
   "id": "blind-stock",
   "metadata": {},
   "source": [
    "There is an imbalance in the data with **not relevant** being 82% in the dataset. That is, most of the articles are not relevant to US Economy, which makes sense in a real-world scenario, as news articles discuss various topics. We should keep this class imbalance mind when interpreting the classifier performance later. Let us first convert the class labels into binary outcome variables for convenience. 1 for Yes (relevant), and 0 for No (not relevant), and ignore \"Not sure\". "
   ]
  },
  {
   "cell_type": "code",
   "execution_count": 17,
   "id": "dated-example",
   "metadata": {},
   "outputs": [
    {
     "name": "stdout",
     "output_type": "stream",
     "text": [
      "(7991, 15)\n"
     ]
    },
    {
     "data": {
      "text/html": [
       "<div>\n",
       "<style scoped>\n",
       "    .dataframe tbody tr th:only-of-type {\n",
       "        vertical-align: middle;\n",
       "    }\n",
       "\n",
       "    .dataframe tbody tr th {\n",
       "        vertical-align: top;\n",
       "    }\n",
       "\n",
       "    .dataframe thead th {\n",
       "        text-align: right;\n",
       "    }\n",
       "</style>\n",
       "<table border=\"1\" class=\"dataframe\">\n",
       "  <thead>\n",
       "    <tr style=\"text-align: right;\">\n",
       "      <th></th>\n",
       "      <th>text</th>\n",
       "      <th>relevance</th>\n",
       "    </tr>\n",
       "  </thead>\n",
       "  <tbody>\n",
       "    <tr>\n",
       "      <th>0</th>\n",
       "      <td>NEW YORK -- Yields on most certificates of dep...</td>\n",
       "      <td>1</td>\n",
       "    </tr>\n",
       "    <tr>\n",
       "      <th>1</th>\n",
       "      <td>The Wall Street Journal Online&lt;/br&gt;&lt;/br&gt;The Mo...</td>\n",
       "      <td>0</td>\n",
       "    </tr>\n",
       "    <tr>\n",
       "      <th>2</th>\n",
       "      <td>WASHINGTON -- In an effort to achieve banking ...</td>\n",
       "      <td>0</td>\n",
       "    </tr>\n",
       "    <tr>\n",
       "      <th>3</th>\n",
       "      <td>The statistics on the enormous costs of employ...</td>\n",
       "      <td>0</td>\n",
       "    </tr>\n",
       "    <tr>\n",
       "      <th>4</th>\n",
       "      <td>NEW YORK -- Indecision marked the dollar's ton...</td>\n",
       "      <td>1</td>\n",
       "    </tr>\n",
       "    <tr>\n",
       "      <th>...</th>\n",
       "      <td>...</td>\n",
       "      <td>...</td>\n",
       "    </tr>\n",
       "    <tr>\n",
       "      <th>7995</th>\n",
       "      <td>Secretary of Commerce Charles W. Sawyer said y...</td>\n",
       "      <td>1</td>\n",
       "    </tr>\n",
       "    <tr>\n",
       "      <th>7996</th>\n",
       "      <td>U.S. stocks inched up last week, overcoming co...</td>\n",
       "      <td>0</td>\n",
       "    </tr>\n",
       "    <tr>\n",
       "      <th>7997</th>\n",
       "      <td>Ben S. Bernanke cleared a key hurdle Thursday ...</td>\n",
       "      <td>0</td>\n",
       "    </tr>\n",
       "    <tr>\n",
       "      <th>7998</th>\n",
       "      <td>The White House's push to contract out many fe...</td>\n",
       "      <td>0</td>\n",
       "    </tr>\n",
       "    <tr>\n",
       "      <th>7999</th>\n",
       "      <td>NEW YORK. April 17-Automobile stocks put on th...</td>\n",
       "      <td>0</td>\n",
       "    </tr>\n",
       "  </tbody>\n",
       "</table>\n",
       "<p>7991 rows × 2 columns</p>\n",
       "</div>"
      ],
      "text/plain": [
       "                                                   text  relevance\n",
       "0     NEW YORK -- Yields on most certificates of dep...          1\n",
       "1     The Wall Street Journal Online</br></br>The Mo...          0\n",
       "2     WASHINGTON -- In an effort to achieve banking ...          0\n",
       "3     The statistics on the enormous costs of employ...          0\n",
       "4     NEW YORK -- Indecision marked the dollar's ton...          1\n",
       "...                                                 ...        ...\n",
       "7995  Secretary of Commerce Charles W. Sawyer said y...          1\n",
       "7996  U.S. stocks inched up last week, overcoming co...          0\n",
       "7997  Ben S. Bernanke cleared a key hurdle Thursday ...          0\n",
       "7998  The White House's push to contract out many fe...          0\n",
       "7999  NEW YORK. April 17-Automobile stocks put on th...          0\n",
       "\n",
       "[7991 rows x 2 columns]"
      ]
     },
     "execution_count": 17,
     "metadata": {},
     "output_type": "execute_result"
    }
   ],
   "source": [
    "df = df[df.relevance != 'not sure']\n",
    "print(df.shape)\n",
    "df['relevance'] = df.relevance.map({'yes':1,'no':0})\n",
    "data = df[['text','relevance']]\n",
    "data"
   ]
  },
  {
   "cell_type": "markdown",
   "id": "signal-symphony",
   "metadata": {},
   "source": [
    "# Text Pre-processing"
   ]
  },
  {
   "cell_type": "markdown",
   "id": "bulgarian-bosnia",
   "metadata": {},
   "source": [
    "Typical steps involve tokenization, lower casing, removing, stop words, punctuation markers etc, and vectorization. Other processes such as stemming/lemmatization can also be performed. Here, we are performing the following steps: removing br tags, punctuation, numbers, and stopwords. While we are using sklearn's list of stopwords, there are several other stop word lists (e.g., from NLTK) or sometimes, custom stopword lists are needed depending on the task. "
   ]
  },
  {
   "cell_type": "code",
   "execution_count": 31,
   "id": "aquatic-garbage",
   "metadata": {},
   "outputs": [],
   "source": [
    "stopwords = _stop_words.ENGLISH_STOP_WORDS\n",
    "def clean(doc): # doc is a string of text\n",
    "    doc = doc.replace(\"</br>\", \" \") # This text contains a lot of <br/> tags.\n",
    "    doc = \"\".join([char for char in doc if char not in string.punctuation and not char.isdigit()])\n",
    "    doc = \" \".join([token for token in doc.split() if token not in stopwords])\n",
    "    # remove punctuation and numbers\n",
    "    return doc"
   ]
  },
  {
   "cell_type": "markdown",
   "id": "verified-ordinance",
   "metadata": {},
   "source": [
    "# Modeling"
   ]
  },
  {
   "cell_type": "markdown",
   "id": "mediterranean-signal",
   "metadata": {},
   "source": [
    "Now we are ready for the modelling. We are going to use algorithms from sklearn package. We will go through the following steps:\n",
    "\n",
    "1. Split the data into training and test sets (75% train, 25% test)    \n",
    "2. Extract features from the training data using CountVectorizer, which is a bag of words feature  implementation. We will use the pre-processing function above in conjunction with Count Vectorizer  \n",
    "3. Transform the test data into the same feature vector as the training data.  \n",
    "4. Train the classifier  \n",
    "5. Evaluate the classifier "
   ]
  },
  {
   "cell_type": "code",
   "execution_count": 33,
   "id": "informative-aruba",
   "metadata": {},
   "outputs": [
    {
     "name": "stdout",
     "output_type": "stream",
     "text": [
      "(5993,) (1998,)\n",
      "(5993,) (1998,)\n"
     ]
    }
   ],
   "source": [
    "X = data.text\n",
    "y = data.relevance\n",
    "\n",
    "X_train, X_test, y_train, y_test = train_test_split(X, y, random_state = 123)\n",
    "\n",
    "print(X_train.shape , X_test.shape)\n",
    "print(y_train.shape, y_test.shape)"
   ]
  },
  {
   "cell_type": "code",
   "execution_count": 43,
   "id": "characteristic-short",
   "metadata": {},
   "outputs": [
    {
     "data": {
      "text/plain": [
       "'NEW YORK -- Yields on most certificates of deposit offered by major banks dropped more than a tenth of a percentage point in the latest week, reflecting the overall decline in short-term interest rates.</br></br>On small-denomination, or \"consumer,\" CDs sold directly by banks, the average yield on six-month deposits fell to 5.49% from 5.62% in the week ended yesterday, according to an 18-bank survey by Banxquote Money Markets, a Wilmington, Del., information service.</br></br>On three-month \"consumer\" deposits, the average yield sank to 5.29% from 5.42% the week before, according to Banxquote. Two banks in the Banxquote survey, Citibank in New York and CoreStates in Pennsylvania, are paying less than 5% on threemonth small-denomination CDs.</br></br>Declines were somewhat smaller on five-year consumer CDs, which eased to 7.37% from 7.45%, Banxquote said.</br></br>Yields on three-month and six-month Treasury bills sold at Monday\\'s auction plummeted more than a fifth of a percentage point from the previous week, to 5.46% and 5.63%, respectively.'"
      ]
     },
     "execution_count": 43,
     "metadata": {},
     "output_type": "execute_result"
    }
   ],
   "source": [
    "X_train[0]"
   ]
  },
  {
   "cell_type": "code",
   "execution_count": 34,
   "id": "insured-launch",
   "metadata": {},
   "outputs": [
    {
     "name": "stdout",
     "output_type": "stream",
     "text": [
      "(5993, 49196) (1998, 49196)\n"
     ]
    }
   ],
   "source": [
    "vect = CountVectorizer(preprocessor = clean)\n",
    "X_train_vect = vect.fit_transform(X_train)\n",
    "X_test_vect = vect.transform(X_test) \n",
    "\n",
    "print(X_train_vect.shape, X_test_vect.shape)"
   ]
  },
  {
   "cell_type": "code",
   "execution_count": 47,
   "id": "selective-customer",
   "metadata": {},
   "outputs": [
    {
     "data": {
      "text/plain": [
       "matrix([[0, 0, 0, ..., 0, 0, 0]], dtype=int64)"
      ]
     },
     "execution_count": 47,
     "metadata": {},
     "output_type": "execute_result"
    }
   ],
   "source": [
    "X_train_vect[0].todense()"
   ]
  },
  {
   "cell_type": "markdown",
   "id": "thrown-attention",
   "metadata": {},
   "source": [
    "## Naive Bayes Model"
   ]
  },
  {
   "cell_type": "code",
   "execution_count": 35,
   "id": "purple-lebanon",
   "metadata": {},
   "outputs": [],
   "source": [
    "naive_model = MultinomialNB()\n",
    "naive_model.fit(X_train_vect,y_train)\n",
    "y_predict = naive_model.predict(X_test_vect)"
   ]
  },
  {
   "cell_type": "code",
   "execution_count": 37,
   "id": "clean-barrel",
   "metadata": {},
   "outputs": [
    {
     "name": "stdout",
     "output_type": "stream",
     "text": [
      "Accuracy:  0.7722722722722722\n"
     ]
    }
   ],
   "source": [
    "print(\"Accuracy: \",accuracy_score(y_test,y_predict))"
   ]
  },
  {
   "cell_type": "code",
   "execution_count": 42,
   "id": "active-recipient",
   "metadata": {},
   "outputs": [
    {
     "name": "stdout",
     "output_type": "stream",
     "text": [
      "Accuracy:  0.7722722722722722\n",
      "ROC_AOC_Score:  0.7484006588072123\n"
     ]
    },
    {
     "data": {
      "image/png": "[encoded data removed]",
      "text/plain": [
       "<Figure size 576x432 with 2 Axes>"
      ]
     },
     "metadata": {
      "needs_background": "light"
     },
     "output_type": "display_data"
    }
   ],
   "source": [
    "# Step 4: Evaluate the classifier using various measures\n",
    "\n",
    "# Function to plot confusion matrix. \n",
    "# Ref:http://scikit-learn.org/stable/auto_examples/model_selection/plot_confusion_matrix.html\n",
    "import itertools\n",
    "from sklearn.metrics import roc_auc_score\n",
    "\n",
    "def plot_confusion_matrix(cm, classes,\n",
    "                          normalize=False,\n",
    "                          title='Confusion matrix',\n",
    "                          cmap=plt.cm.Blues):\n",
    "    \"\"\"\n",
    "    This function prints and plots the confusion matrix.\n",
    "    Normalization can be applied by setting `normalize=True`.\n",
    "    \"\"\"\n",
    "    if normalize:\n",
    "        cm = cm.astype('float') / cm.sum(axis=1)[:, np.newaxis]\n",
    "\n",
    "    plt.imshow(cm, interpolation='nearest', cmap=cmap)\n",
    "    plt.title(title)\n",
    "    plt.colorbar()\n",
    "    tick_marks = np.arange(len(classes))\n",
    "    plt.xticks(tick_marks, classes, rotation=45)\n",
    "    plt.yticks(tick_marks, classes)\n",
    "\n",
    "    fmt = '.2f' if normalize else 'd'\n",
    "    thresh = cm.max() / 2.\n",
    "    for i, j in itertools.product(range(cm.shape[0]), range(cm.shape[1])):\n",
    "        plt.text(j, i, format(cm[i, j], fmt),\n",
    "                 horizontalalignment=\"center\",\n",
    "                 color=\"white\" if cm[i, j] > thresh else \"black\")\n",
    "\n",
    "    plt.tight_layout()\n",
    "    plt.ylabel('True label',fontsize=15)\n",
    "    plt.xlabel('Predicted label',fontsize=15)\n",
    "    \n",
    "    \n",
    "# Print accuracy:\n",
    "print(\"Accuracy: \", accuracy_score(y_test, y_predict))\n",
    "\n",
    "    \n",
    "# print the confusion matrix\n",
    "cnf_matrix = confusion_matrix(y_test, y_predict)\n",
    "plt.figure(figsize=(8,6))\n",
    "plot_confusion_matrix(cnf_matrix, classes=['Not Relevant','Relevant'],normalize=True,\n",
    "                      title='Confusion matrix with all features')\n",
    "\n",
    "# calculate AUC: Area under the curve(AUC) gives idea about the model efficiency:\n",
    "# Further information: https://en.wikipedia.org/wiki/Receiver_operating_characteristic\n",
    "y_pred_prob = naive_model.predict_proba(X_test_vect)[:, 1]\n",
    "print(\"ROC_AOC_Score: \", roc_auc_score(y_test, y_pred_prob))"
   ]
  },
  {
   "cell_type": "markdown",
   "id": "crazy-banner",
   "metadata": {},
   "source": [
    "## Logistic Regression Model"
   ]
  },
  {
   "cell_type": "code",
   "execution_count": null,
   "id": "loved-european",
   "metadata": {},
   "outputs": [],
   "source": []
  },
  {
   "cell_type": "code",
   "execution_count": null,
   "id": "auburn-provincial",
   "metadata": {},
   "outputs": [],
   "source": []
  },
  {
   "cell_type": "code",
   "execution_count": null,
   "id": "increased-velvet",
   "metadata": {},
   "outputs": [],
   "source": []
  },
  {
   "cell_type": "code",
   "execution_count": null,
   "id": "sensitive-orlando",
   "metadata": {},
   "outputs": [],
   "source": []
  },
  {
   "cell_type": "code",
   "execution_count": null,
   "id": "expensive-caution",
   "metadata": {},
   "outputs": [],
   "source": []
  },
  {
   "cell_type": "code",
   "execution_count": null,
   "id": "everyday-captain",
   "metadata": {},
   "outputs": [],
   "source": []
  },
  {
   "cell_type": "code",
   "execution_count": null,
   "id": "superior-disaster",
   "metadata": {},
   "outputs": [],
   "source": []
  }
 ],
 "metadata": {
  "kernelspec": {
   "display_name": "Python 3",
   "language": "python",
   "name": "python3"
  },
  "language_info": {
   "codemirror_mode": {
    "name": "ipython",
    "version": 3
   },
   "file_extension": ".py",
   "mimetype": "text/x-python",
   "name": "python",
   "nbconvert_exporter": "python",
   "pygments_lexer": "ipython3",
   "version": "3.6.12"
  }
 },
 "nbformat": 4,
 "nbformat_minor": 5
}
